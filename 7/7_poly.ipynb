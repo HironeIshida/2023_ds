{
 "cells": [
  {
   "cell_type": "code",
   "execution_count": 1,
   "metadata": {},
   "outputs": [
    {
     "name": "stdout",
     "output_type": "stream",
     "text": [
      "5.6\n",
      "39.6\n",
      "1877.0\n",
      "5604.0\n"
     ]
    }
   ],
   "source": [
    "using CSV\n",
    "using DataFrames\n",
    "using Plots\n",
    "using LaTeXStrings\n",
    "using Polynomials\n",
    "\n",
    "temp_full_data = CSV.read(\"ds07_temp.csv\", DataFrame)\n",
    "power_full_data = CSV.read(\"ds07_power.csv\", DataFrame)\n",
    "\n",
    "temp_data = parse.(Float64, temp_full_data[!, 5][4:end])\n",
    "println(minimum(temp_data))\n",
    "println(maximum(temp_data))\n",
    "\n",
    "power_data = parse.(Float64, power_full_data[!, 3][3:end])\n",
    "\n",
    "println(minimum(power_data))\n",
    "println(maximum(power_data))"
   ]
  },
  {
   "cell_type": "code",
   "execution_count": 2,
   "metadata": {},
   "outputs": [
    {
     "name": "stdout",
     "output_type": "stream",
     "text": [
      "6.0\n",
      "18.9\n"
     ]
    }
   ],
   "source": [
    "#make January temp data\n",
    "temp_data_Jan = temp_data[1:31]\n",
    "println(minimum(temp_data_Jan))\n",
    "println(maximum(temp_data_Jan))"
   ]
  },
  {
   "attachments": {},
   "cell_type": "markdown",
   "metadata": {},
   "source": [
    "### 1月"
   ]
  },
  {
   "cell_type": "code",
   "execution_count": 3,
   "metadata": {},
   "outputs": [],
   "source": [
    "#make January power data\n",
    "power_data_Jan = power_data[1:744]\n",
    ";"
   ]
  },
  {
   "cell_type": "code",
   "execution_count": 4,
   "metadata": {},
   "outputs": [],
   "source": [
    "power_data_Jan_sum = Array{Float64}(undef, 31)\n",
    "\n",
    "for i in 1:31\n",
    "    sum = 0.0\n",
    "    for j in 24*(i-1)+1 : 24*i\n",
    "        sum += power_data_Jan[j]\n",
    "    end\n",
    "    power_data_Jan_sum[i] = sum\n",
    "end"
   ]
  },
  {
   "cell_type": "code",
   "execution_count": 5,
   "metadata": {},
   "outputs": [
    {
     "data": {
      "text/html": [
       "125042.04327436772 &#45; 6062.108468978877&#8729;x &#43; 206.36394643569952&#8729;x<sup>2</sup>"
      ],
      "text/latex": [
       "$125042.04327436772 - 6062.108468978877\\cdot x + 206.36394643569952\\cdot x^{2}$"
      ],
      "text/plain": [
       "Polynomial(125042.04327436772 - 6062.108468978877*x + 206.36394643569952*x^2)"
      ]
     },
     "metadata": {},
     "output_type": "display_data"
    }
   ],
   "source": [
    "Jan_poly = Polynomials.fit(temp_data_Jan, power_data_Jan_sum, 2)"
   ]
  },
  {
   "cell_type": "code",
   "execution_count": 6,
   "metadata": {},
   "outputs": [],
   "source": [
    "xp=5:0.5:20\n",
    "p = plot(\n",
    "        title = L\"\\mathrm{MaxTemperature - power demand (January)}\",\n",
    "        xlabel = L\"\\mathrm{Maximum temperature}~(^{\\mathrm{o}}\\mathrm{C})\",\n",
    "        ylabel = L\"\\mathrm{power demand(10000kWh)}\"\n",
    ")\n",
    "plot!(p, xp, Jan_poly.(xp),\n",
    "        label = \"Simple Regression\")\n",
    "scatter!(p, temp_data_Jan, power_data_Jan_sum,\n",
    "        label = \"Real Data\")\n",
    "savefig(\"ds07_January_poly.pdf\")"
   ]
  },
  {
   "cell_type": "code",
   "execution_count": 7,
   "metadata": {},
   "outputs": [],
   "source": [
    "power_data_sum = Array{Float64}(undef, 366)\n",
    "\n",
    "for i in 1:366\n",
    "    sum = 0.0\n",
    "    for j in 24*(i-1)+1 : 24*i\n",
    "        sum += power_data[j]\n",
    "    end\n",
    "    power_data_sum[i] = sum\n",
    "end"
   ]
  },
  {
   "cell_type": "code",
   "execution_count": 8,
   "metadata": {},
   "outputs": [
    {
     "data": {
      "text/html": [
       "128132.27674939753 &#45; 5344.164188669675&#8729;x &#43; 118.79559834856383&#8729;x<sup>2</sup>"
      ],
      "text/latex": [
       "$128132.27674939753 - 5344.164188669675\\cdot x + 118.79559834856383\\cdot x^{2}$"
      ],
      "text/plain": [
       "Polynomial(128132.27674939753 - 5344.164188669675*x + 118.79559834856383*x^2)"
      ]
     },
     "metadata": {},
     "output_type": "display_data"
    }
   ],
   "source": [
    "poly_year = Polynomials.fit(temp_data, power_data_sum, 2)"
   ]
  },
  {
   "cell_type": "code",
   "execution_count": 9,
   "metadata": {},
   "outputs": [],
   "source": [
    "xp=0:0.5:40\n",
    "p = plot(\n",
    "        title = L\"\\mathrm{MaxTemperature - power demand}\",\n",
    "        xlabel = L\"\\mathrm{Maximum temperature}~(^{\\mathrm{o}}\\mathrm{C})\",\n",
    "        ylabel = L\"\\mathrm{power demand(10000kWh)}\"\n",
    ")\n",
    "plot!(p, xp, poly_year.(xp),\n",
    "        label = \"Simple Regression\")\n",
    "scatter!(p, temp_data, power_data_sum,\n",
    "        label = \"Real Data\")\n",
    "savefig(\"ds07_year_poly.pdf\")"
   ]
  }
 ],
 "metadata": {
  "kernelspec": {
   "display_name": "Julia 1.8.1",
   "language": "julia",
   "name": "julia-1.8"
  },
  "language_info": {
   "file_extension": ".jl",
   "mimetype": "application/julia",
   "name": "julia",
   "version": "1.8.1"
  },
  "orig_nbformat": 4
 },
 "nbformat": 4,
 "nbformat_minor": 2
}
