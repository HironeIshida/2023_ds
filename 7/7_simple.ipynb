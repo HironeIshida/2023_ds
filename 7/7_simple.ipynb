{
 "cells": [
  {
   "cell_type": "code",
   "execution_count": 11,
   "metadata": {},
   "outputs": [],
   "source": [
    "using CSV\n",
    "using DataFrames\n",
    "using Plots\n",
    "using LaTeXStrings\n",
    "\n",
    "temp_full_data = CSV.read(\"ds07_temp.csv\", DataFrame)\n",
    "power_full_data = CSV.read(\"ds07_power.csv\", DataFrame)\n",
    "\n",
    "temp_data = parse.(Float64, temp_full_data[!, 5][4:end])\n",
    "println(minimum(temp_data))\n",
    "println(maximum(temp_data))\n",
    "\n",
    "power_data = parse.(Float64, power_full_data[!, 3][3:end])\n",
    "\n",
    "println(minimum(power_data))\n",
    "println(maximum(power_data))"
   ]
  },
  {
   "attachments": {},
   "cell_type": "markdown",
   "metadata": {},
   "source": [
    "### 1月データ"
   ]
  },
  {
   "cell_type": "code",
   "execution_count": 13,
   "metadata": {},
   "outputs": [
    {
     "name": "stdout",
     "output_type": "stream",
     "text": [
      "6.0\n"
     ]
    },
    {
     "name": "stdout",
     "output_type": "stream",
     "text": [
      "18.9\n"
     ]
    }
   ],
   "source": [
    "#make January temp data\n",
    "temp_data_Jan = temp_data[1:31]\n",
    "println(minimum(temp_data_Jan))\n",
    "println(maximum(temp_data_Jan))"
   ]
  },
  {
   "cell_type": "code",
   "execution_count": 14,
   "metadata": {},
   "outputs": [],
   "source": [
    "#make January power data\n",
    "power_data_Jan = power_data[1:744]\n",
    ";"
   ]
  },
  {
   "cell_type": "code",
   "execution_count": 15,
   "metadata": {},
   "outputs": [],
   "source": [
    "power_data_Jan_sum = []\n",
    "\n",
    "for i in 1:31\n",
    "    sum = 0\n",
    "    for j in 24*(i-1)+1 : 24*i\n",
    "        sum += power_data_Jan[j]\n",
    "    end\n",
    "    push!(power_data_Jan_sum, sum)\n",
    "end"
   ]
  },
  {
   "cell_type": "code",
   "execution_count": 16,
   "metadata": {},
   "outputs": [],
   "source": [
    "A=[temp_data_Jan ones(length(temp_data_Jan),1)];\n",
    "b=power_data_Jan_sum\n",
    "T=inv(A' * A) * A' * b\n",
    "#print(T)\n",
    "\n",
    "xp=5:0.5:20\n",
    "p = plot(\n",
    "        title = L\"\\mathrm{MaxTemperature - power demand (January)}\",\n",
    "        xlabel = L\"\\mathrm{Maximum temperature}~(^{\\mathrm{o}}\\mathrm{C})\",\n",
    "        ylabel = L\"\\mathrm{power demand(10000kWh)}\"\n",
    ")\n",
    "plot!(p, xp, T[1].*xp.+T[2],\n",
    "        label = \"Simple Regression\")\n",
    "scatter!(p, temp_data_Jan, power_data_Jan_sum,\n",
    "        label = \"Real Data\")\n",
    "savefig(\"ds07_January_simple.pdf\")"
   ]
  },
  {
   "attachments": {},
   "cell_type": "markdown",
   "metadata": {},
   "source": [
    "### 年間"
   ]
  },
  {
   "cell_type": "code",
   "execution_count": 17,
   "metadata": {},
   "outputs": [],
   "source": [
    "power_data_sum = []\n",
    "\n",
    "for i in 1:366\n",
    "    sum = 0\n",
    "    for j in 24*(i-1)+1 : 24*i\n",
    "        sum += power_data[j]\n",
    "    end\n",
    "    push!(power_data_sum, sum)\n",
    "end"
   ]
  },
  {
   "cell_type": "code",
   "execution_count": 21,
   "metadata": {},
   "outputs": [],
   "source": [
    "A=[temp_data ones(length(temp_data),1)];\n",
    "b=power_data_sum\n",
    "T=inv(A' * A) * A' * b\n",
    "#print(T)\n",
    "\n",
    "xp=0:0.5:40\n",
    "p = plot(\n",
    "        title = L\"\\mathrm{MaxTemperature - power demand}\",\n",
    "        xlabel = L\"\\mathrm{Maximum temperature}~(^{\\mathrm{o}}\\mathrm{C})\",\n",
    "        ylabel = L\"\\mathrm{power demand(10000kWh)}\"\n",
    ")\n",
    "plot!(p, xp, T[1].*xp.+T[2],\n",
    "        label = \"Simple Regression\")\n",
    "scatter!(p, temp_data, power_data_sum,\n",
    "        label = \"Real Data\")\n",
    "savefig(\"ds07_year_simple.pdf\")\n"
   ]
  }
 ],
 "metadata": {
  "kernelspec": {
   "display_name": "Julia 1.8.1",
   "language": "julia",
   "name": "julia-1.8"
  },
  "language_info": {
   "file_extension": ".jl",
   "mimetype": "application/julia",
   "name": "julia",
   "version": "1.8.1"
  },
  "orig_nbformat": 4
 },
 "nbformat": 4,
 "nbformat_minor": 2
}
