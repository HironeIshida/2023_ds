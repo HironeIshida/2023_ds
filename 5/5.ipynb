{
 "cells": [
  {
   "cell_type": "code",
   "execution_count": 41,
   "metadata": {},
   "outputs": [],
   "source": [
    "using CSV\n",
    "using DataFrames\n",
    "using Plots"
   ]
  },
  {
   "cell_type": "code",
   "execution_count": 42,
   "metadata": {},
   "outputs": [],
   "source": [
    "fulldata = CSV.read(\"SSDSE-B-2023.csv\", DataFrame);"
   ]
  },
  {
   "cell_type": "code",
   "execution_count": 43,
   "metadata": {},
   "outputs": [
    {
     "data": {
      "text/plain": [
       "7.344765e6"
      ]
     },
     "metadata": {},
     "output_type": "display_data"
    }
   ],
   "source": [
    "data1 = fulldata[!, 4]\n",
    "data1 = data1[2:end]\n",
    "data1 = parse.(Float64, data1)\n",
    "data1 = data1[1:12:end]\n",
    "\n",
    "sorted_data1 = sortperm(data1)\n",
    "sorted_data1[end-4]\n",
    "data1[sorted_data1[end-4]]"
   ]
  },
  {
   "cell_type": "code",
   "execution_count": 44,
   "metadata": {},
   "outputs": [
    {
     "data": {
      "text/plain": [
       "11"
      ]
     },
     "metadata": {},
     "output_type": "display_data"
    }
   ],
   "source": [
    "for i in 1:47\n",
    "    if data1[i] == data1[sorted_data1[end-4]]\n",
    "        global ind = i\n",
    "        break\n",
    "    end\n",
    "end\n",
    "ind"
   ]
  },
  {
   "cell_type": "code",
   "execution_count": 56,
   "metadata": {},
   "outputs": [],
   "source": [
    "data_in = fulldata[!, 26]\n",
    "data_in = data_in[2:end]\n",
    "data_in = parse.(Int64, data_in)\n",
    "data_out = fulldata[!, 29]\n",
    "data_out = data_out[2:end]\n",
    "data_out = parse.(Int64, data_out)\n",
    ";"
   ]
  },
  {
   "cell_type": "code",
   "execution_count": 86,
   "metadata": {},
   "outputs": [],
   "source": [
    "data_in_out = data_in .- data_out\n",
    "data_in_out = data_in_out[1:12:end]\n",
    "pi = sortperm(data_in_out)\n",
    "data_in_out[pi];"
   ]
  },
  {
   "cell_type": "code",
   "execution_count": 77,
   "metadata": {},
   "outputs": [
    {
     "data": {
      "text/plain": [
       "13"
      ]
     },
     "metadata": {},
     "output_type": "display_data"
    }
   ],
   "source": [
    "ind2 = 0\n",
    "for i in 1:47\n",
    "    if data_in_out[i] == data_in_out[sortperm(data_in_out)[end]]\n",
    "        global ind2 = i\n",
    "        break\n",
    "    end\n",
    "end\n",
    "\n",
    "ind2"
   ]
  },
  {
   "cell_type": "code",
   "execution_count": 81,
   "metadata": {},
   "outputs": [],
   "source": [
    "data_rain = fulldata[!, 38]\n",
    "data_rain = data_rain[2:end]\n",
    "data_rain = parse.(Float64, data_rain);"
   ]
  },
  {
   "cell_type": "code",
   "execution_count": 82,
   "metadata": {},
   "outputs": [],
   "source": [
    "data_rain_sum = []\n",
    "\n",
    "for i in 1:47\n",
    "    sum = 0\n",
    "    for j in 12*(i-1)+1 : 12*i\n",
    "        sum += data_rain[j]\n",
    "    end\n",
    "    push!(data_rain_sum, sum)\n",
    "end"
   ]
  },
  {
   "cell_type": "code",
   "execution_count": 88,
   "metadata": {},
   "outputs": [
    {
     "data": {
      "text/plain": [
       "39"
      ]
     },
     "metadata": {},
     "output_type": "display_data"
    }
   ],
   "source": [
    "data_rain_sum\n",
    "\n",
    "for i in 1:47\n",
    "    if data_rain_sum[i] == data_rain_sum[sortperm(data_rain_sum)[end]]\n",
    "        global maxind = i\n",
    "        break\n",
    "    end\n",
    "end\n",
    "maxind"
   ]
  },
  {
   "cell_type": "code",
   "execution_count": 90,
   "metadata": {},
   "outputs": [
    {
     "data": {
      "text/plain": [
       "20"
      ]
     },
     "metadata": {},
     "output_type": "display_data"
    }
   ],
   "source": [
    "for i in 1:47\n",
    "    if data_rain_sum[i] == data_rain_sum[sortperm(data_rain_sum)[1]]\n",
    "        global minind = i\n",
    "        break\n",
    "    end\n",
    "end\n",
    "minind"
   ]
  },
  {
   "cell_type": "code",
   "execution_count": 92,
   "metadata": {},
   "outputs": [
    {
     "data": {
      "text/plain": [
       "\"15\\x81`64\\x8dΐl\\x8c\\xfb\\x81i\\x92j\\x81j\""
      ]
     },
     "metadata": {},
     "output_type": "display_data"
    }
   ],
   "source": [
    "string = fulldata[!, 14][1]"
   ]
  },
  {
   "cell_type": "code",
   "execution_count": null,
   "metadata": {},
   "outputs": [],
   "source": [
    "北海道\n",
    "青森県\n",
    "岩手県\n",
    "宮城県\n",
    "秋田県\n",
    "山形県\n",
    "福島県\n",
    "茨城県\n",
    "栃木県\n",
    "群馬県\n",
    "埼玉県\n",
    "千葉県\n",
    "東京都\n",
    "神奈川県\n",
    "新潟県\n",
    "富山県\n",
    "石川県\n",
    "福井県\n",
    "山梨県\n",
    "長野県\n",
    "岐阜県\n",
    "静岡県\n",
    "愛知県\n",
    "三重県\n",
    "滋賀県\n",
    "京都府\n",
    "大阪府\n",
    "兵庫県\n",
    "奈良県\n",
    "和歌山県\n",
    "鳥取県\n",
    "島根県\n",
    "岡山県\n",
    "広島県\n",
    "山口県\n",
    "徳島県\n",
    "香川県\n",
    "愛媛県\n",
    "高知県\n",
    "福岡県\n",
    "佐賀県\n",
    "長崎県\n",
    "熊本県\n",
    "大分県\n",
    "宮崎県\n",
    "鹿児島県\n",
    "沖縄県"
   ]
  }
 ],
 "metadata": {
  "kernelspec": {
   "display_name": "Julia 1.8.1",
   "language": "julia",
   "name": "julia-1.8"
  },
  "language_info": {
   "file_extension": ".jl",
   "mimetype": "application/julia",
   "name": "julia",
   "version": "1.8.1"
  },
  "orig_nbformat": 4
 },
 "nbformat": 4,
 "nbformat_minor": 2
}
